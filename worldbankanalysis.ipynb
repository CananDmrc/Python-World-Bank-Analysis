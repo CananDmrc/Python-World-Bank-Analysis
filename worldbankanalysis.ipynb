{
 "cells": [
  {
   "cell_type": "markdown",
   "metadata": {},
   "source": [
    "## Importing & Cleaning Data "
   ]
  },
  {
   "cell_type": "code",
   "execution_count": 5,
   "metadata": {
    "scrolled": true
   },
   "outputs": [
    {
     "data": {
      "text/html": [
       "<div>\n",
       "<style scoped>\n",
       "    .dataframe tbody tr th:only-of-type {\n",
       "        vertical-align: middle;\n",
       "    }\n",
       "\n",
       "    .dataframe tbody tr th {\n",
       "        vertical-align: top;\n",
       "    }\n",
       "\n",
       "    .dataframe thead th {\n",
       "        text-align: right;\n",
       "    }\n",
       "</style>\n",
       "<table border=\"1\" class=\"dataframe\">\n",
       "  <thead>\n",
       "    <tr style=\"text-align: right;\">\n",
       "      <th></th>\n",
       "      <th>ID_Num</th>\n",
       "      <th>Country</th>\n",
       "      <th>Region</th>\n",
       "      <th>IFM_Nigo</th>\n",
       "      <th>Step_Nego</th>\n",
       "      <th>Gov_Spending</th>\n",
       "      <th>Business_Freedom</th>\n",
       "      <th>Monetary_Freedom</th>\n",
       "      <th>Investment_Freedom</th>\n",
       "      <th>Population_Millions</th>\n",
       "      <th>GDP_Billions_PPP</th>\n",
       "      <th>Unemployment_Rate</th>\n",
       "      <th>Inflation_Rate</th>\n",
       "      <th>Public_Debt_rate_GDP</th>\n",
       "    </tr>\n",
       "  </thead>\n",
       "  <tbody>\n",
       "    <tr>\n",
       "      <th>0</th>\n",
       "      <td>1</td>\n",
       "      <td>Afghanistan</td>\n",
       "      <td>Asia-Pacific</td>\n",
       "      <td>0</td>\n",
       "      <td>Step4</td>\n",
       "      <td>80.3</td>\n",
       "      <td>49.2</td>\n",
       "      <td>76.7</td>\n",
       "      <td>10.0</td>\n",
       "      <td>35.5</td>\n",
       "      <td>69.6</td>\n",
       "      <td>8.8</td>\n",
       "      <td>5.0</td>\n",
       "      <td>7.3</td>\n",
       "    </tr>\n",
       "    <tr>\n",
       "      <th>1</th>\n",
       "      <td>2</td>\n",
       "      <td>Albania</td>\n",
       "      <td>Europe</td>\n",
       "      <td>1</td>\n",
       "      <td>Step1</td>\n",
       "      <td>73.9</td>\n",
       "      <td>69.3</td>\n",
       "      <td>81.5</td>\n",
       "      <td>70.0</td>\n",
       "      <td>2.9</td>\n",
       "      <td>36.0</td>\n",
       "      <td>13.9</td>\n",
       "      <td>2.0</td>\n",
       "      <td>71.2</td>\n",
       "    </tr>\n",
       "    <tr>\n",
       "      <th>2</th>\n",
       "      <td>3</td>\n",
       "      <td>Algeria</td>\n",
       "      <td>Middle East and North Africa</td>\n",
       "      <td>0</td>\n",
       "      <td>Step4</td>\n",
       "      <td>48.7</td>\n",
       "      <td>61.6</td>\n",
       "      <td>74.9</td>\n",
       "      <td>30.0</td>\n",
       "      <td>41.5</td>\n",
       "      <td>632.9</td>\n",
       "      <td>10.0</td>\n",
       "      <td>5.6</td>\n",
       "      <td>25.8</td>\n",
       "    </tr>\n",
       "    <tr>\n",
       "      <th>3</th>\n",
       "      <td>4</td>\n",
       "      <td>Angola</td>\n",
       "      <td>Sub-Saharan Africa</td>\n",
       "      <td>0</td>\n",
       "      <td>Step4</td>\n",
       "      <td>80.7</td>\n",
       "      <td>55.7</td>\n",
       "      <td>55.4</td>\n",
       "      <td>30.0</td>\n",
       "      <td>28.2</td>\n",
       "      <td>190.3</td>\n",
       "      <td>8.2</td>\n",
       "      <td>31.7</td>\n",
       "      <td>65.3</td>\n",
       "    </tr>\n",
       "    <tr>\n",
       "      <th>4</th>\n",
       "      <td>5</td>\n",
       "      <td>Argentina</td>\n",
       "      <td>Americas</td>\n",
       "      <td>0</td>\n",
       "      <td>Step2</td>\n",
       "      <td>49.5</td>\n",
       "      <td>56.4</td>\n",
       "      <td>60.2</td>\n",
       "      <td>55.0</td>\n",
       "      <td>44.1</td>\n",
       "      <td>920.2</td>\n",
       "      <td>8.7</td>\n",
       "      <td>25.7</td>\n",
       "      <td>52.6</td>\n",
       "    </tr>\n",
       "    <tr>\n",
       "      <th>...</th>\n",
       "      <td>...</td>\n",
       "      <td>...</td>\n",
       "      <td>...</td>\n",
       "      <td>...</td>\n",
       "      <td>...</td>\n",
       "      <td>...</td>\n",
       "      <td>...</td>\n",
       "      <td>...</td>\n",
       "      <td>...</td>\n",
       "      <td>...</td>\n",
       "      <td>...</td>\n",
       "      <td>...</td>\n",
       "      <td>...</td>\n",
       "      <td>...</td>\n",
       "    </tr>\n",
       "    <tr>\n",
       "      <th>169</th>\n",
       "      <td>170</td>\n",
       "      <td>Vanuatu</td>\n",
       "      <td>Asia-Pacific</td>\n",
       "      <td>0</td>\n",
       "      <td>Step1</td>\n",
       "      <td>54.1</td>\n",
       "      <td>52.4</td>\n",
       "      <td>75.0</td>\n",
       "      <td>65.0</td>\n",
       "      <td>0.3</td>\n",
       "      <td>0.8</td>\n",
       "      <td>5.2</td>\n",
       "      <td>3.1</td>\n",
       "      <td>48.4</td>\n",
       "    </tr>\n",
       "    <tr>\n",
       "      <th>170</th>\n",
       "      <td>171</td>\n",
       "      <td>Venezuela</td>\n",
       "      <td>Americas</td>\n",
       "      <td>0</td>\n",
       "      <td>Step2</td>\n",
       "      <td>58.1</td>\n",
       "      <td>33.9</td>\n",
       "      <td>10.0</td>\n",
       "      <td>2.0</td>\n",
       "      <td>31.4</td>\n",
       "      <td>380.7</td>\n",
       "      <td>7.7</td>\n",
       "      <td>1087.5</td>\n",
       "      <td>34.9</td>\n",
       "    </tr>\n",
       "    <tr>\n",
       "      <th>171</th>\n",
       "      <td>172</td>\n",
       "      <td>Vietnam</td>\n",
       "      <td>Asia-Pacific</td>\n",
       "      <td>0</td>\n",
       "      <td>Step2</td>\n",
       "      <td>74.1</td>\n",
       "      <td>63.5</td>\n",
       "      <td>68.9</td>\n",
       "      <td>30.0</td>\n",
       "      <td>93.6</td>\n",
       "      <td>647.4</td>\n",
       "      <td>2.1</td>\n",
       "      <td>3.5</td>\n",
       "      <td>58.2</td>\n",
       "    </tr>\n",
       "    <tr>\n",
       "      <th>172</th>\n",
       "      <td>173</td>\n",
       "      <td>Zambia</td>\n",
       "      <td>Sub-Saharan Africa</td>\n",
       "      <td>0</td>\n",
       "      <td>Step4</td>\n",
       "      <td>80.1</td>\n",
       "      <td>71.1</td>\n",
       "      <td>70.3</td>\n",
       "      <td>55.0</td>\n",
       "      <td>17.2</td>\n",
       "      <td>68.9</td>\n",
       "      <td>7.8</td>\n",
       "      <td>6.6</td>\n",
       "      <td>62.2</td>\n",
       "    </tr>\n",
       "    <tr>\n",
       "      <th>173</th>\n",
       "      <td>174</td>\n",
       "      <td>Zimbabwe</td>\n",
       "      <td>Sub-Saharan Africa</td>\n",
       "      <td>0</td>\n",
       "      <td>Step1</td>\n",
       "      <td>74.5</td>\n",
       "      <td>33.4</td>\n",
       "      <td>72.4</td>\n",
       "      <td>25.0</td>\n",
       "      <td>14.9</td>\n",
       "      <td>34.0</td>\n",
       "      <td>5.0</td>\n",
       "      <td>1.3</td>\n",
       "      <td>78.4</td>\n",
       "    </tr>\n",
       "  </tbody>\n",
       "</table>\n",
       "<p>174 rows × 14 columns</p>\n",
       "</div>"
      ],
      "text/plain": [
       "     ID_Num      Country                        Region  IFM_Nigo Step_Nego  \\\n",
       "0         1  Afghanistan                  Asia-Pacific         0     Step4   \n",
       "1         2      Albania                        Europe         1     Step1   \n",
       "2         3      Algeria  Middle East and North Africa         0     Step4   \n",
       "3         4       Angola            Sub-Saharan Africa         0     Step4   \n",
       "4         5    Argentina                      Americas         0     Step2   \n",
       "..      ...          ...                           ...       ...       ...   \n",
       "169     170      Vanuatu                  Asia-Pacific         0     Step1   \n",
       "170     171    Venezuela                      Americas         0     Step2   \n",
       "171     172      Vietnam                  Asia-Pacific         0     Step2   \n",
       "172     173       Zambia            Sub-Saharan Africa         0     Step4   \n",
       "173     174     Zimbabwe            Sub-Saharan Africa         0     Step1   \n",
       "\n",
       "     Gov_Spending  Business_Freedom  Monetary_Freedom  Investment_Freedom  \\\n",
       "0            80.3              49.2              76.7                10.0   \n",
       "1            73.9              69.3              81.5                70.0   \n",
       "2            48.7              61.6              74.9                30.0   \n",
       "3            80.7              55.7              55.4                30.0   \n",
       "4            49.5              56.4              60.2                55.0   \n",
       "..            ...               ...               ...                 ...   \n",
       "169          54.1              52.4              75.0                65.0   \n",
       "170          58.1              33.9              10.0                 2.0   \n",
       "171          74.1              63.5              68.9                30.0   \n",
       "172          80.1              71.1              70.3                55.0   \n",
       "173          74.5              33.4              72.4                25.0   \n",
       "\n",
       "     Population_Millions  GDP_Billions_PPP  Unemployment_Rate  Inflation_Rate  \\\n",
       "0                   35.5              69.6                8.8             5.0   \n",
       "1                    2.9              36.0               13.9             2.0   \n",
       "2                   41.5             632.9               10.0             5.6   \n",
       "3                   28.2             190.3                8.2            31.7   \n",
       "4                   44.1             920.2                8.7            25.7   \n",
       "..                   ...               ...                ...             ...   \n",
       "169                  0.3               0.8                5.2             3.1   \n",
       "170                 31.4             380.7                7.7          1087.5   \n",
       "171                 93.6             647.4                2.1             3.5   \n",
       "172                 17.2              68.9                7.8             6.6   \n",
       "173                 14.9              34.0                5.0             1.3   \n",
       "\n",
       "     Public_Debt_rate_GDP  \n",
       "0                     7.3  \n",
       "1                    71.2  \n",
       "2                    25.8  \n",
       "3                    65.3  \n",
       "4                    52.6  \n",
       "..                    ...  \n",
       "169                  48.4  \n",
       "170                  34.9  \n",
       "171                  58.2  \n",
       "172                  62.2  \n",
       "173                  78.4  \n",
       "\n",
       "[174 rows x 14 columns]"
      ]
     },
     "execution_count": 5,
     "metadata": {},
     "output_type": "execute_result"
    }
   ],
   "source": [
    "import pandas as pd\n",
    "import numpy as np\n",
    "import matplotlib.pyplot as plt \n",
    "bank = pd.read_excel(\"World_Bank_Report_2019.xlsx\")\n",
    "bank"
   ]
  },
  {
   "cell_type": "markdown",
   "metadata": {},
   "source": [
    "#### Provide an overview of the DataFrame, detailing data types, count of missing values, and other relevant information. Additionally, analyze the statistical summary to pinpoint any inconsistencies or anomalies within the data."
   ]
  },
  {
   "cell_type": "code",
   "execution_count": 6,
   "metadata": {},
   "outputs": [
    {
     "data": {
      "text/plain": [
       "(174, 14)"
      ]
     },
     "execution_count": 6,
     "metadata": {},
     "output_type": "execute_result"
    }
   ],
   "source": [
    "bank.shape"
   ]
  },
  {
   "cell_type": "code",
   "execution_count": 7,
   "metadata": {},
   "outputs": [
    {
     "data": {
      "text/plain": [
       "ID_Num                  0\n",
       "Country                 0\n",
       "Region                  0\n",
       "IFM_Nigo                0\n",
       "Step_Nego               3\n",
       "Gov_Spending            2\n",
       "Business_Freedom        1\n",
       "Monetary_Freedom        1\n",
       "Investment_Freedom      1\n",
       "Population_Millions     0\n",
       "GDP_Billions_PPP        0\n",
       "Unemployment_Rate       1\n",
       "Inflation_Rate          1\n",
       "Public_Debt_rate_GDP    0\n",
       "dtype: int64"
      ]
     },
     "execution_count": 7,
     "metadata": {},
     "output_type": "execute_result"
    }
   ],
   "source": [
    "bank.isnull().sum()"
   ]
  },
  {
   "cell_type": "code",
   "execution_count": 8,
   "metadata": {},
   "outputs": [
    {
     "data": {
      "text/plain": [
       "Index(['ID_Num', 'Country', 'Region', 'IFM_Nigo', 'Step_Nego', 'Gov_Spending',\n",
       "       'Business_Freedom', 'Monetary_Freedom', 'Investment_Freedom',\n",
       "       'Population_Millions', 'GDP_Billions_PPP', 'Unemployment_Rate',\n",
       "       'Inflation_Rate', 'Public_Debt_rate_GDP'],\n",
       "      dtype='object')"
      ]
     },
     "execution_count": 8,
     "metadata": {},
     "output_type": "execute_result"
    }
   ],
   "source": [
    "bank.columns "
   ]
  },
  {
   "cell_type": "code",
   "execution_count": 9,
   "metadata": {},
   "outputs": [
    {
     "data": {
      "text/plain": [
       "ID_Num                    int64\n",
       "Country                  object\n",
       "Region                   object\n",
       "IFM_Nigo                  int64\n",
       "Step_Nego                object\n",
       "Gov_Spending            float64\n",
       "Business_Freedom        float64\n",
       "Monetary_Freedom        float64\n",
       "Investment_Freedom      float64\n",
       "Population_Millions     float64\n",
       "GDP_Billions_PPP        float64\n",
       "Unemployment_Rate       float64\n",
       "Inflation_Rate          float64\n",
       "Public_Debt_rate_GDP    float64\n",
       "dtype: object"
      ]
     },
     "execution_count": 9,
     "metadata": {},
     "output_type": "execute_result"
    }
   ],
   "source": [
    "bank.dtypes"
   ]
  },
  {
   "cell_type": "code",
   "execution_count": 10,
   "metadata": {},
   "outputs": [
    {
     "data": {
      "text/plain": [
       "array(['Asia-Pacific', 'Europe', 'Middle East and North Africa',\n",
       "       'Sub-Saharan Africa', 'Americas'], dtype=object)"
      ]
     },
     "execution_count": 10,
     "metadata": {},
     "output_type": "execute_result"
    }
   ],
   "source": [
    "regions=bank['Region'].unique()\n",
    "regions"
   ]
  },
  {
   "cell_type": "code",
   "execution_count": 11,
   "metadata": {},
   "outputs": [],
   "source": [
    "bank_M =bank.loc[bank['Region']=='regions']"
   ]
  },
  {
   "cell_type": "code",
   "execution_count": 12,
   "metadata": {
    "scrolled": false
   },
   "outputs": [
    {
     "name": "stdout",
     "output_type": "stream",
     "text": [
      "Asia-Pacific\n",
      "72.25\n",
      "Europe\n",
      "45.21190476190475\n",
      "Middle East and North Africa\n",
      "60.76428571428571\n",
      "Sub-Saharan Africa\n",
      "76.60222222222222\n",
      "Americas\n",
      "70.64516129032258\n"
     ]
    }
   ],
   "source": [
    "for Region in regions :\n",
    "    bank_Dy =bank.loc[bank['Region'] == Region]\n",
    "    print(Region)\n",
    "    print(bank_Dy['Gov_Spending'].mean())"
   ]
  },
  {
   "cell_type": "code",
   "execution_count": 26,
   "metadata": {},
   "outputs": [
    {
     "data": {
      "text/html": [
       "<div>\n",
       "<style scoped>\n",
       "    .dataframe tbody tr th:only-of-type {\n",
       "        vertical-align: middle;\n",
       "    }\n",
       "\n",
       "    .dataframe tbody tr th {\n",
       "        vertical-align: top;\n",
       "    }\n",
       "\n",
       "    .dataframe thead th {\n",
       "        text-align: right;\n",
       "    }\n",
       "</style>\n",
       "<table border=\"1\" class=\"dataframe\">\n",
       "  <thead>\n",
       "    <tr style=\"text-align: right;\">\n",
       "      <th></th>\n",
       "      <th>ID_Num</th>\n",
       "      <th>IFM_Nigo</th>\n",
       "      <th>Gov_Spending</th>\n",
       "      <th>Business_Freedom</th>\n",
       "      <th>Monetary_Freedom</th>\n",
       "      <th>Investment_Freedom</th>\n",
       "      <th>Population_Millions</th>\n",
       "      <th>GDP_Billions_PPP</th>\n",
       "      <th>Unemployment_Rate</th>\n",
       "      <th>Inflation_Rate</th>\n",
       "      <th>Public_Debt_rate_GDP</th>\n",
       "    </tr>\n",
       "  </thead>\n",
       "  <tbody>\n",
       "    <tr>\n",
       "      <th>count</th>\n",
       "      <td>174.000000</td>\n",
       "      <td>174.000000</td>\n",
       "      <td>172.000000</td>\n",
       "      <td>173.000000</td>\n",
       "      <td>173.000000</td>\n",
       "      <td>173.000000</td>\n",
       "      <td>174.000000</td>\n",
       "      <td>174.00000</td>\n",
       "      <td>173.000000</td>\n",
       "      <td>173.000000</td>\n",
       "      <td>174.000000</td>\n",
       "    </tr>\n",
       "    <tr>\n",
       "      <th>mean</th>\n",
       "      <td>87.500000</td>\n",
       "      <td>0.500000</td>\n",
       "      <td>65.562209</td>\n",
       "      <td>64.466474</td>\n",
       "      <td>75.682659</td>\n",
       "      <td>58.317919</td>\n",
       "      <td>41.916092</td>\n",
       "      <td>725.52069</td>\n",
       "      <td>7.305202</td>\n",
       "      <td>10.837572</td>\n",
       "      <td>56.615517</td>\n",
       "    </tr>\n",
       "    <tr>\n",
       "      <th>std</th>\n",
       "      <td>50.373604</td>\n",
       "      <td>0.501443</td>\n",
       "      <td>21.588564</td>\n",
       "      <td>15.157112</td>\n",
       "      <td>9.091354</td>\n",
       "      <td>21.662516</td>\n",
       "      <td>149.486427</td>\n",
       "      <td>2479.46068</td>\n",
       "      <td>5.689722</td>\n",
       "      <td>82.556312</td>\n",
       "      <td>33.763274</td>\n",
       "    </tr>\n",
       "    <tr>\n",
       "      <th>min</th>\n",
       "      <td>1.000000</td>\n",
       "      <td>0.000000</td>\n",
       "      <td>0.000000</td>\n",
       "      <td>17.700000</td>\n",
       "      <td>10.000000</td>\n",
       "      <td>2.000000</td>\n",
       "      <td>0.100000</td>\n",
       "      <td>0.60000</td>\n",
       "      <td>0.100000</td>\n",
       "      <td>-0.900000</td>\n",
       "      <td>0.000000</td>\n",
       "    </tr>\n",
       "    <tr>\n",
       "      <th>25%</th>\n",
       "      <td>44.250000</td>\n",
       "      <td>0.000000</td>\n",
       "      <td>52.325000</td>\n",
       "      <td>55.700000</td>\n",
       "      <td>72.300000</td>\n",
       "      <td>45.000000</td>\n",
       "      <td>2.825000</td>\n",
       "      <td>27.70000</td>\n",
       "      <td>3.700000</td>\n",
       "      <td>1.300000</td>\n",
       "      <td>35.300000</td>\n",
       "    </tr>\n",
       "    <tr>\n",
       "      <th>50%</th>\n",
       "      <td>87.500000</td>\n",
       "      <td>0.500000</td>\n",
       "      <td>69.700000</td>\n",
       "      <td>65.800000</td>\n",
       "      <td>77.800000</td>\n",
       "      <td>60.000000</td>\n",
       "      <td>9.150000</td>\n",
       "      <td>88.80000</td>\n",
       "      <td>5.500000</td>\n",
       "      <td>2.800000</td>\n",
       "      <td>49.900000</td>\n",
       "    </tr>\n",
       "    <tr>\n",
       "      <th>75%</th>\n",
       "      <td>130.750000</td>\n",
       "      <td>1.000000</td>\n",
       "      <td>83.325000</td>\n",
       "      <td>75.200000</td>\n",
       "      <td>81.800000</td>\n",
       "      <td>75.000000</td>\n",
       "      <td>30.925000</td>\n",
       "      <td>435.80000</td>\n",
       "      <td>9.300000</td>\n",
       "      <td>5.500000</td>\n",
       "      <td>70.125000</td>\n",
       "    </tr>\n",
       "    <tr>\n",
       "      <th>max</th>\n",
       "      <td>174.000000</td>\n",
       "      <td>1.000000</td>\n",
       "      <td>96.600000</td>\n",
       "      <td>96.400000</td>\n",
       "      <td>88.000000</td>\n",
       "      <td>95.000000</td>\n",
       "      <td>1390.100000</td>\n",
       "      <td>23159.10000</td>\n",
       "      <td>27.300000</td>\n",
       "      <td>1087.500000</td>\n",
       "      <td>236.400000</td>\n",
       "    </tr>\n",
       "  </tbody>\n",
       "</table>\n",
       "</div>"
      ],
      "text/plain": [
       "           ID_Num    IFM_Nigo  Gov_Spending  Business_Freedom  \\\n",
       "count  174.000000  174.000000    172.000000        173.000000   \n",
       "mean    87.500000    0.500000     65.562209         64.466474   \n",
       "std     50.373604    0.501443     21.588564         15.157112   \n",
       "min      1.000000    0.000000      0.000000         17.700000   \n",
       "25%     44.250000    0.000000     52.325000         55.700000   \n",
       "50%     87.500000    0.500000     69.700000         65.800000   \n",
       "75%    130.750000    1.000000     83.325000         75.200000   \n",
       "max    174.000000    1.000000     96.600000         96.400000   \n",
       "\n",
       "       Monetary_Freedom  Investment_Freedom  Population_Millions  \\\n",
       "count        173.000000          173.000000           174.000000   \n",
       "mean          75.682659           58.317919            41.916092   \n",
       "std            9.091354           21.662516           149.486427   \n",
       "min           10.000000            2.000000             0.100000   \n",
       "25%           72.300000           45.000000             2.825000   \n",
       "50%           77.800000           60.000000             9.150000   \n",
       "75%           81.800000           75.000000            30.925000   \n",
       "max           88.000000           95.000000          1390.100000   \n",
       "\n",
       "       GDP_Billions_PPP  Unemployment_Rate  Inflation_Rate  \\\n",
       "count         174.00000         173.000000      173.000000   \n",
       "mean          725.52069           7.305202       10.837572   \n",
       "std          2479.46068           5.689722       82.556312   \n",
       "min             0.60000           0.100000       -0.900000   \n",
       "25%            27.70000           3.700000        1.300000   \n",
       "50%            88.80000           5.500000        2.800000   \n",
       "75%           435.80000           9.300000        5.500000   \n",
       "max         23159.10000          27.300000     1087.500000   \n",
       "\n",
       "       Public_Debt_rate_GDP  \n",
       "count            174.000000  \n",
       "mean              56.615517  \n",
       "std               33.763274  \n",
       "min                0.000000  \n",
       "25%               35.300000  \n",
       "50%               49.900000  \n",
       "75%               70.125000  \n",
       "max              236.400000  "
      ]
     },
     "execution_count": 26,
     "metadata": {},
     "output_type": "execute_result"
    }
   ],
   "source": [
    "bank.describe()"
   ]
  },
  {
   "cell_type": "markdown",
   "metadata": {},
   "source": [
    "#### Replace missing values with the average value specific to each region."
   ]
  },
  {
   "cell_type": "code",
   "execution_count": 13,
   "metadata": {
    "scrolled": false
   },
   "outputs": [
    {
     "data": {
      "text/plain": [
       "ID_Num                  0\n",
       "Country                 0\n",
       "Region                  0\n",
       "IFM_Nigo                0\n",
       "Step_Nego               3\n",
       "Gov_Spending            0\n",
       "Business_Freedom        0\n",
       "Monetary_Freedom        0\n",
       "Investment_Freedom      0\n",
       "Population_Millions     0\n",
       "GDP_Billions_PPP        0\n",
       "Unemployment_Rate       0\n",
       "Inflation_Rate          0\n",
       "Public_Debt_rate_GDP    0\n",
       "dtype: int64"
      ]
     },
     "execution_count": 13,
     "metadata": {},
     "output_type": "execute_result"
    }
   ],
   "source": [
    "df1 = bank.loc[bank['Region'] == 'Asia-Pacific'].fillna({'Gov_Spending' : bank.Gov_Spending.mean(), \n",
    "           'Business_Freedom' : bank.Business_Freedom.mean(), \n",
    "           'Monetary_Freedom': bank.Monetary_Freedom.mean(),\n",
    "           'Investment_Freedom': bank.Investment_Freedom.mean(),\n",
    "           'Unemployment_Rate': bank.Unemployment_Rate.mean(),\n",
    "           'Inflation_Rate': bank.Inflation_Rate.mean(),})\n",
    "df2 = bank.loc[bank['Region'] == 'Europe'].fillna({'Gov_Spending' : bank.Gov_Spending.mean(), \n",
    "           'Business_Freedom' : bank.Business_Freedom.mean(), \n",
    "           'Monetary_Freedom': bank.Monetary_Freedom.mean(),\n",
    "           'Investment_Freedom': bank.Investment_Freedom.mean(),\n",
    "           'Unemployment_Rate': bank.Unemployment_Rate.mean(),\n",
    "           'Inflation_Rate': bank.Inflation_Rate.mean(),})\n",
    "df3 = bank.loc[bank['Region'] == 'Middle East and North Africa'].fillna({'Gov_Spending' : bank.Gov_Spending.mean(), \n",
    "           'Business_Freedom' : bank.Business_Freedom.mean(), \n",
    "           'Monetary_Freedom': bank.Monetary_Freedom.mean(),\n",
    "           'Investment_Freedom': bank.Investment_Freedom.mean(),\n",
    "           'Unemployment_Rate': bank.Unemployment_Rate.mean(),\n",
    "           'Inflation_Rate': bank.Inflation_Rate.mean(),})\n",
    "df4 = bank.loc[bank['Region'] == 'Sub-Saharan Africa'].fillna({'Gov_Spending' : bank.Gov_Spending.mean(), \n",
    "           'Business_Freedom' : bank.Business_Freedom.mean(), \n",
    "           'Monetary_Freedom': bank.Monetary_Freedom.mean(),\n",
    "           'Investment_Freedom': bank.Investment_Freedom.mean(),\n",
    "           'Unemployment_Rate': bank.Unemployment_Rate.mean(),\n",
    "           'Inflation_Rate': bank.Inflation_Rate.mean(),})\n",
    "df5 = bank.loc[bank['Region'] == 'Americas'].fillna({'Gov_Spending' : bank.Gov_Spending.mean(), \n",
    "           'Business_Freedom' : bank.Business_Freedom.mean(), \n",
    "           'Monetary_Freedom': bank.Monetary_Freedom.mean(),\n",
    "           'Investment_Freedom': bank.Investment_Freedom.mean(),\n",
    "           'Unemployment_Rate': bank.Unemployment_Rate.mean(),\n",
    "           'Inflation_Rate': bank.Inflation_Rate.mean(),})\n",
    "df6=bank['Step_Nego'].fillna('step3', inplace=True)\n",
    "data = pd.concat([df1,df2, df3, df4, df5, df6])\n",
    "data.head(3)\n",
    "data.isnull().sum()"
   ]
  },
  {
   "cell_type": "markdown",
   "metadata": {},
   "source": [
    "# Data Manipulation "
   ]
  },
  {
   "cell_type": "markdown",
   "metadata": {},
   "source": [
    "#### Which country has the maximum 'Gov_Spending?"
   ]
  },
  {
   "cell_type": "code",
   "execution_count": 14,
   "metadata": {},
   "outputs": [
    {
     "data": {
      "text/html": [
       "<div>\n",
       "<style scoped>\n",
       "    .dataframe tbody tr th:only-of-type {\n",
       "        vertical-align: middle;\n",
       "    }\n",
       "\n",
       "    .dataframe tbody tr th {\n",
       "        vertical-align: top;\n",
       "    }\n",
       "\n",
       "    .dataframe thead th {\n",
       "        text-align: right;\n",
       "    }\n",
       "</style>\n",
       "<table border=\"1\" class=\"dataframe\">\n",
       "  <thead>\n",
       "    <tr style=\"text-align: right;\">\n",
       "      <th></th>\n",
       "      <th>ID_Num</th>\n",
       "      <th>Country</th>\n",
       "      <th>Region</th>\n",
       "      <th>IFM_Nigo</th>\n",
       "      <th>Step_Nego</th>\n",
       "      <th>Gov_Spending</th>\n",
       "      <th>Business_Freedom</th>\n",
       "      <th>Monetary_Freedom</th>\n",
       "      <th>Investment_Freedom</th>\n",
       "      <th>Population_Millions</th>\n",
       "      <th>GDP_Billions_PPP</th>\n",
       "      <th>Unemployment_Rate</th>\n",
       "      <th>Inflation_Rate</th>\n",
       "      <th>Public_Debt_rate_GDP</th>\n",
       "    </tr>\n",
       "  </thead>\n",
       "  <tbody>\n",
       "    <tr>\n",
       "      <th>147</th>\n",
       "      <td>148</td>\n",
       "      <td>Sudan</td>\n",
       "      <td>Sub-Saharan Africa</td>\n",
       "      <td>0</td>\n",
       "      <td>Step3</td>\n",
       "      <td>96.6</td>\n",
       "      <td>52.1</td>\n",
       "      <td>56.9</td>\n",
       "      <td>5.0</td>\n",
       "      <td>40.8</td>\n",
       "      <td>187.0</td>\n",
       "      <td>12.7</td>\n",
       "      <td>32.4</td>\n",
       "      <td>126.0</td>\n",
       "    </tr>\n",
       "  </tbody>\n",
       "</table>\n",
       "</div>"
      ],
      "text/plain": [
       "     ID_Num Country              Region  IFM_Nigo Step_Nego  Gov_Spending  \\\n",
       "147     148   Sudan  Sub-Saharan Africa         0     Step3          96.6   \n",
       "\n",
       "     Business_Freedom  Monetary_Freedom  Investment_Freedom  \\\n",
       "147              52.1              56.9                 5.0   \n",
       "\n",
       "     Population_Millions  GDP_Billions_PPP  Unemployment_Rate  Inflation_Rate  \\\n",
       "147                 40.8             187.0               12.7            32.4   \n",
       "\n",
       "     Public_Debt_rate_GDP  \n",
       "147                 126.0  "
      ]
     },
     "execution_count": 14,
     "metadata": {},
     "output_type": "execute_result"
    }
   ],
   "source": [
    "bank.loc[bank['Gov_Spending'] == bank.Gov_Spending.max()]"
   ]
  },
  {
   "cell_type": "markdown",
   "metadata": {},
   "source": [
    "#### The Minimum of  'Unemployment_Rate & Inflation_Rate'  by ‘Region’"
   ]
  },
  {
   "cell_type": "code",
   "execution_count": 15,
   "metadata": {},
   "outputs": [
    {
     "data": {
      "text/plain": [
       "Region\n",
       "Americas                        2.6\n",
       "Asia-Pacific                    0.2\n",
       "Europe                          0.5\n",
       "Middle East and North Africa    0.1\n",
       "Sub-Saharan Africa              0.4\n",
       "Name: Unemployment_Rate, dtype: float64"
      ]
     },
     "execution_count": 15,
     "metadata": {},
     "output_type": "execute_result"
    }
   ],
   "source": [
    "bank.groupby('Region').Unemployment_Rate.min()"
   ]
  },
  {
   "cell_type": "code",
   "execution_count": 16,
   "metadata": {},
   "outputs": [
    {
     "data": {
      "text/plain": [
       "Region\n",
       "Americas                        0.1\n",
       "Asia-Pacific                   -0.4\n",
       "Europe                          0.3\n",
       "Middle East and North Africa   -0.9\n",
       "Sub-Saharan Africa             -0.9\n",
       "Name: Inflation_Rate, dtype: float64"
      ]
     },
     "execution_count": 16,
     "metadata": {},
     "output_type": "execute_result"
    }
   ],
   "source": [
    "bank.groupby('Region').Inflation_Rate.min()"
   ]
  },
  {
   "cell_type": "markdown",
   "metadata": {},
   "source": [
    "#### The Average 'Public_Debt_rate_GDP' by ‘Region"
   ]
  },
  {
   "cell_type": "code",
   "execution_count": 17,
   "metadata": {},
   "outputs": [
    {
     "data": {
      "text/plain": [
       "Region\n",
       "Americas                        57.541935\n",
       "Asia-Pacific                    47.772500\n",
       "Europe                          60.858140\n",
       "Middle East and North Africa    61.500000\n",
       "Sub-Saharan Africa              58.228261\n",
       "Name: Public_Debt_rate_GDP, dtype: float64"
      ]
     },
     "execution_count": 17,
     "metadata": {},
     "output_type": "execute_result"
    }
   ],
   "source": [
    "bank.groupby('Region').Public_Debt_rate_GDP.mean()"
   ]
  },
  {
   "cell_type": "markdown",
   "metadata": {},
   "source": [
    "#### Find the maxsimum 'Gov_Spending' by using the for loop"
   ]
  },
  {
   "cell_type": "code",
   "execution_count": 18,
   "metadata": {},
   "outputs": [],
   "source": [
    " df=bank.groupby('Region').Gov_Spending.max()"
   ]
  },
  {
   "cell_type": "code",
   "execution_count": 19,
   "metadata": {},
   "outputs": [
    {
     "data": {
      "text/plain": [
       "Index(['Americas', 'Asia-Pacific', 'Europe', 'Middle East and North Africa',\n",
       "       'Sub-Saharan Africa'],\n",
       "      dtype='object', name='Region')"
      ]
     },
     "execution_count": 19,
     "metadata": {},
     "output_type": "execute_result"
    }
   ],
   "source": [
    "df.index"
   ]
  },
  {
   "cell_type": "code",
   "execution_count": 20,
   "metadata": {},
   "outputs": [
    {
     "name": "stdout",
     "output_type": "stream",
     "text": [
      "Americas 95.6\n",
      "Asia-Pacific 94.5\n",
      "Europe 77.4\n",
      "Middle East and North Africa 89.8\n",
      "Sub-Saharan Africa 96.6\n"
     ]
    }
   ],
   "source": [
    "for index in df.index:\n",
    "    print (index,df[index])"
   ]
  },
  {
   "cell_type": "markdown",
   "metadata": {},
   "source": [
    "# Data Visualization"
   ]
  },
  {
   "cell_type": "markdown",
   "metadata": {},
   "source": [
    "#### The mean of 'Inflation_Rate' by ‘Region’ "
   ]
  },
  {
   "cell_type": "code",
   "execution_count": 33,
   "metadata": {},
   "outputs": [
    {
     "data": {
      "image/png": "[encoded data removed]",
      "text/plain": [
       "<Figure size 432x288 with 1 Axes>"
      ]
     },
     "metadata": {
      "needs_background": "light"
     },
     "output_type": "display_data"
    }
   ],
   "source": [
    "graph = bank.groupby('Region')['Inflation_Rate'].mean()\n",
    "graph_bar = graph.plot(stacked=True, kind='barh', title= 'Mean of Inflation Rate by Region')"
   ]
  },
  {
   "cell_type": "markdown",
   "metadata": {},
   "source": [
    "#### The minimum 'Gov_Spending' by ‘Step_Nego’"
   ]
  },
  {
   "cell_type": "code",
   "execution_count": 22,
   "metadata": {},
   "outputs": [
    {
     "data": {
      "image/png": "[encoded data removed]",
      "text/plain": [
       "<Figure size 432x288 with 1 Axes>"
      ]
     },
     "metadata": {},
     "output_type": "display_data"
    }
   ],
   "source": [
    "bank.groupby('Step_Nego').Gov_Spending.min().plot(kind = 'pie')\n",
    "plt.title (' Minimum Gov_Spending by Step_Nego' )\n",
    "plt.axis (\"equal\")\n",
    "plt.show ()"
   ]
  },
  {
   "cell_type": "markdown",
   "metadata": {},
   "source": [
    "#### The graph of the Max of ' Monetary_Freedom', & 'Investment_Freedom of the “Middle East and North Africa” region countries."
   ]
  },
  {
   "cell_type": "code",
   "execution_count": 24,
   "metadata": {},
   "outputs": [
    {
     "data": {
      "image/png": "[encoded data removed]",
      "text/plain": [
       "<Figure size 432x288 with 1 Axes>"
      ]
     },
     "metadata": {
      "needs_background": "light"
     },
     "output_type": "display_data"
    }
   ],
   "source": [
    "region=bank[bank[\"Region\"]==\"Middle East and North Africa\"]\n",
    "d=pd.pivot_table(region,index=[\"Country\"],values=(\"Investment_Freedom\",\"Monetary_Freedom\"),aggfunc=np.max)\n",
    "\n",
    " \n",
    "\n",
    "country=bank[\"Country\"].tolist()\n",
    "x1=d[\"Monetary_Freedom\"].tolist()\n",
    "x2=d[\"Investment_Freedom\"].tolist()\n",
    "\n",
    " \n",
    "\n",
    "df=pd.DataFrame({\"Investment_Freedom\":x1,\"Monetary_Freedom\":x2},index=region)\n",
    "ax = df.plot.barh(rot=0)\n",
    "plt.show()"
   ]
  }
 ],
 "metadata": {
  "kernelspec": {
   "display_name": "Python 3",
   "language": "python",
   "name": "python3"
  },
  "language_info": {
   "codemirror_mode": {
    "name": "ipython",
    "version": 3
   },
   "file_extension": ".py",
   "mimetype": "text/x-python",
   "name": "python",
   "nbconvert_exporter": "python",
   "pygments_lexer": "ipython3",
   "version": "3.7.6"
  }
 },
 "nbformat": 4,
 "nbformat_minor": 4
}
